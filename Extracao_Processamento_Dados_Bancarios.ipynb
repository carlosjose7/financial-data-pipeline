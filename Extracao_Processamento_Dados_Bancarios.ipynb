{
 "cells": [
  {
   "cell_type": "code",
   "execution_count": null,
   "metadata": {},
   "outputs": [],
   "source": [
    "import pandas as pd\n",
    "import PyPDF2\n",
    "import re"
   ]
  },
  {
   "cell_type": "code",
   "execution_count": null,
   "metadata": {},
   "outputs": [],
   "source": [
    "# Definindo os caminhos dos arquivos\n",
    "csv_paths = {\n",
    "    'bradesco': r\"SEU PATH\",\n",
    "    'cora': r\"SEU PATH\",\n",
    "    'pagseguro': r\"SEU PATH\"\n",
    "}\n",
    "pdf_path = r\"SEU PATH\""
   ]
  },
  {
   "cell_type": "code",
   "execution_count": null,
   "metadata": {},
   "outputs": [],
   "source": [
    "# Função para carregar dados CSV\n",
    "def load_csv_data(path, delimiter=',', skiprows=None, encoding=None):\n",
    "    return pd.read_csv(path, delimiter=delimiter, skiprows=skiprows, encoding=encoding)\n"
   ]
  },
  {
   "cell_type": "code",
   "execution_count": null,
   "metadata": {},
   "outputs": [],
   "source": [
    "# Carregar dados do CSV da Cora\n",
    "df_cora = load_csv_data(csv_paths['cora'])\n",
    "\n",
    "# Renomear os campos\n",
    "df_cora.rename(columns={\n",
    "    'Data': 'data',\n",
    "    'Tipo Transação': 'tipo_transacao',\n",
    "    'Transação': 'categoria_transacao',\n",
    "    'Identificação': 'desc_transação',\n",
    "    'Valor': 'valor'\n",
    "}, inplace=True)\n",
    "\n",
    "# Incluir a coluna codigo_transacao como o número da linha no DataFrame\n",
    "df_cora['codigo_transacao'] = df_cora.index + 1\n",
    "\n",
    "# Incluir nome do banco\n",
    "df_cora['banco'] = \"Cora\"\n",
    "\n",
    "# Reorganizar as colunas na ordem desejada\n",
    "df_cora = df_cora[['data', 'codigo_transacao', 'tipo_transacao', 'categoria_transacao', 'desc_transação', 'valor','banco']]\n",
    "\n",
    "\n"
   ]
  },
  {
   "cell_type": "code",
   "execution_count": null,
   "metadata": {},
   "outputs": [],
   "source": [
    "# Carregar e processar dados do CSV do PagSeguro\n",
    "df_pagbk = load_csv_data(csv_paths['pagseguro'], delimiter=';')\n",
    "\n",
    "\n",
    "# Renomear os campos\n",
    "df_pagbk.rename(columns={\n",
    "    'DATA': 'data',\n",
    "    'TIPO': 'categoria_transacao',\n",
    "    'CODIGO DA TRANSACAO': 'codigo_transacao',\n",
    "    'DESCRICAO': 'desc_transação',\n",
    "    'VALOR': 'valor'\n",
    "}, inplace=True)\n",
    "\n",
    "# Ajustar o formato do campo 'valor'\n",
    "df_pagbk['valor'] = df_pagbk['valor'].astype(str).str.replace(',', '.').astype(float)\n",
    "\n",
    "# Criar a coluna 'tipo' que indica Débito ou Crédito com base no valor da transação\n",
    "df_pagbk['tipo_transacao'] = df_pagbk['valor'].apply(lambda x: 'Crédito' if x >= 0 else 'Débito')\n",
    "\n",
    "# Incluir nome do banco\n",
    "df_pagbk['banco'] = \"Pagbank\"\n",
    "\n",
    "# Reorganizar as colunas na ordem desejada\n",
    "df_pagbk = df_pagbk[['data', 'codigo_transacao', 'tipo_transacao', 'categoria_transacao', 'desc_transação', 'valor','banco']]\n"
   ]
  },
  {
   "cell_type": "code",
   "execution_count": null,
   "metadata": {},
   "outputs": [],
   "source": [
    "# Carregar e processar dados do CSV do Bradesco\n",
    "df_bra = load_csv_data(csv_paths['bradesco'], delimiter=';', skiprows=2, encoding='ISO-8859-1')\n",
    "df_bra.columns = ['Data', 'Transação', 'Codigo da transação.', 'Credito', 'Debito', 'Saldo']\n",
    "\n",
    "# Renomear os campos\n",
    "df_bra.rename(columns={\n",
    "    'Data': 'data',\n",
    "    'Codigo da transação.': 'codigo_transacao',\n",
    "    'Transação': 'desc_transação',\n",
    "}, inplace=True)\n",
    "\n",
    "# Criar uma coluna vazia chamada categoria_transacao\n",
    "df_bra['categoria_transacao'] = ''\n",
    "\n",
    "total_index = df_bra[df_bra['data'].str.contains('Total', na=False)].index\n",
    "if not total_index.empty:\n",
    "    df_bra = df_bra.iloc[:total_index[0]]\n",
    "df_bra = df_bra.dropna(subset=['data'])\n",
    "df_bra = df_bra[~df_bra['desc_transação'].str.contains('SALDO ANTERIOR', na=False)]\n",
    "for col in ['Credito', 'Debito', 'Saldo']:\n",
    "    df_bra[col] = df_bra[col].astype(str).str.replace('.', '', regex=False).str.replace(',', '.', regex=False).astype(float)\n",
    "\n",
    "# Criar DataFrames separados para créditos e débitos\n",
    "df_credito = df_bra[['data', 'desc_transação', 'codigo_transacao', 'Credito', 'categoria_transacao']].copy()\n",
    "df_credito['tipo_transacao'] = 'Crédito'\n",
    "df_credito.rename(columns={'Credito': 'valor'}, inplace=True)\n",
    "\n",
    "df_debito = df_bra[['data', 'desc_transação', 'codigo_transacao', 'Debito', 'categoria_transacao']].copy()\n",
    "df_debito['tipo_transacao'] = 'Débito'\n",
    "df_debito.rename(columns={'Debito': 'valor'}, inplace=True)\n",
    "\n",
    "# Concatenar os DataFrames de crédito e débito\n",
    "df_final = pd.concat([df_credito, df_debito], ignore_index=True)\n",
    "\n",
    "# Remover linhas com valores nulos na coluna 'valor'\n",
    "df_bra = df_final.dropna(subset=['valor'])\n",
    "\n",
    "# Verificar se a coluna 'categoria_transacao' ainda existe, caso contrário, recriá-la\n",
    "if 'categoria_transacao' not in df_bra.columns:\n",
    "    df_bra['categoria_transacao'] = ''\n",
    "\n",
    "# Incluir nome do banco\n",
    "df_bra['banco'] = \"Bradesco\"\n",
    "\n",
    "# Reorganizar as colunas na ordem desejada\n",
    "df_bra = df_bra[['data', 'codigo_transacao', 'tipo_transacao', 'categoria_transacao', 'desc_transação', 'valor','banco']]\n",
    "\n"
   ]
  },
  {
   "cell_type": "code",
   "execution_count": null,
   "metadata": {},
   "outputs": [],
   "source": [
    "# Função para extrair texto de um PDF\n",
    "def extract_text_from_pdf(pdf_path):\n",
    "    with open(pdf_path, 'rb') as file:\n",
    "        reader = PyPDF2.PdfReader(file)\n",
    "        text = ''.join([page.extract_text() for page in reader.pages])\n",
    "    return text"
   ]
  },
  {
   "cell_type": "code",
   "execution_count": null,
   "metadata": {},
   "outputs": [],
   "source": [
    "# Função para processar texto extraído e criar um DataFrame\n",
    "def parse_text_to_dataframe(text):\n",
    "    pattern = re.compile(\n",
    "        r'(\\d{2}-\\d{2}-\\d{4})'  # Data\n",
    "        r'([\\s\\S]*?)'  # Descrição\n",
    "        r'(\\d{11})'  # ID da operação\n",
    "        r'\\s+R\\$\\s+([\\d.,-]+)'  # Valor\n",
    "        r'\\s+R\\$\\s+([\\d.,]+)'  # Saldo\n",
    "    )\n",
    "    matches = pattern.findall(text)\n",
    "    df = pd.DataFrame(matches, columns=['Data', 'Descrição', 'ID da operação', 'Valor', 'Saldo'])\n",
    "    df['Descrição'] = df['Descrição'].str.strip()\n",
    "    df['Valor'] = df['Valor'].str.replace('.', '').str.replace(',', '.').astype(float)\n",
    "    df['Saldo'] = df['Saldo'].str.replace('.', '').str.replace(',', '.').astype(float)\n",
    "    return df"
   ]
  },
  {
   "cell_type": "code",
   "execution_count": null,
   "metadata": {},
   "outputs": [],
   "source": [
    "text = extract_text_from_pdf(pdf_path)\n",
    "df_mcpgo = parse_text_to_dataframe(text)\n",
    "\n",
    "# Renomear os campos\n",
    "df_mcpgo.rename(columns={\n",
    "    'Data': 'data',\n",
    "    'ID da operação': 'codigo_transacao',\n",
    "    'Descrição': 'desc_transação',\n",
    "    'Valor': 'valor',\n",
    "}, inplace=True)\n",
    "\n",
    "# Remover a coluna 'Saldo'\n",
    "df_mcpgo.drop(columns=['Saldo'], inplace=True)\n",
    "\n",
    "# Criar a coluna 'tipo' com base no valor da transação\n",
    "df_mcpgo['tipo_transacao'] = df_mcpgo['valor'].apply(lambda x: 'Débito' if x < 0 else 'Crédito')\n",
    "# Adicionar a coluna 'categoria_transacao' vazia\n",
    "df_mcpgo['categoria_transacao'] = ''\n",
    "\n",
    "# Incluir nome do banco\n",
    "df_mcpgo['banco'] = \"Mercado Pago\"\n",
    "\n",
    "# Reorganizar as colunas na ordem desejada\n",
    "df_mcpgo = df_mcpgo[['data', 'codigo_transacao', 'tipo_transacao', 'categoria_transacao', 'desc_transação', 'valor','banco']]\n",
    "\n",
    "# Mostrar as primeiras linhas do DataFrame\n",
    "df_mcpgo.head()"
   ]
  },
  {
   "cell_type": "code",
   "execution_count": null,
   "metadata": {},
   "outputs": [],
   "source": [
    "df_union = pd.concat([df_mcpgo, df_bra, df_pagbk, df_cora], ignore_index=True)"
   ]
  },
  {
   "cell_type": "code",
   "execution_count": null,
   "metadata": {},
   "outputs": [],
   "source": [
    "df_union.head()"
   ]
  }
 ],
 "metadata": {
  "kernelspec": {
   "display_name": "Python 3",
   "language": "python",
   "name": "python3"
  },
  "language_info": {
   "codemirror_mode": {
    "name": "ipython",
    "version": 3
   },
   "file_extension": ".py",
   "mimetype": "text/x-python",
   "name": "python",
   "nbconvert_exporter": "python",
   "pygments_lexer": "ipython3",
   "version": "3.12.0"
  }
 },
 "nbformat": 4,
 "nbformat_minor": 2
}
